{
 "cells": [
  {
   "cell_type": "markdown",
   "metadata": {},
   "source": [
    "Spend 10 mins trying to solve this as a warm-up! Replace \"pass\" with your logic. You should return a variable with the dog's meal. Bonus, handle a case, if you get a dog we don't know about, return \"I don't know\" or something indicative of that."
   ]
  },
  {
   "cell_type": "code",
   "execution_count": 42,
   "metadata": {},
   "outputs": [
    {
     "name": "stdout",
     "output_type": "stream",
     "text": [
      "which dog? boss\n",
      "vegan\n"
     ]
    }
   ],
   "source": [
    "# In 2 lists, we have dogs and their meals\n",
    "# eg, Chance eats steak, lucky eats chow, etc...\n",
    "\n",
    "dogs  = ['chance', 'scout', 'rover', 'lucky', 'boss']\n",
    "meals = ['steak', 'chicken', 'bones', 'chow', 'vegan']\n",
    "user_choice = input(\"which dog? \")\n",
    "\n",
    "# If someone gives us a dog, how can we return their meal?\n",
    "#print(\"which dog?\")\n",
    "\n",
    "dog_meals = dict(zip(dogs,meals))\n",
    "\n",
    "#def find_meal(some_dog):\n",
    "#dog_meals = dict(zip(dogs,meals))\n",
    "#for dog, meal in dog_meals:\n",
    "if user_choice in dog_meals:\n",
    "    print(dog_meals[user_choice])\n",
    "else:\n",
    "    print (\"not a valid dog\")\n",
    "\n",
    "  #Return the meal the dog eats \n",
    "  # Hit, you'll have to use an index lookup and\n",
    "  # Use that to find the meals\n",
    "  #Rover --> Bones as an example"
   ]
  },
  {
   "cell_type": "code",
   "execution_count": 7,
   "metadata": {},
   "outputs": [
    {
     "data": {
      "text/plain": [
       "list"
      ]
     },
     "execution_count": 7,
     "metadata": {},
     "output_type": "execute_result"
    }
   ],
   "source": [
    "type(dog_meals)"
   ]
  },
  {
   "cell_type": "code",
   "execution_count": 17,
   "metadata": {},
   "outputs": [],
   "source": [
    "dog_meals = dict(zip(dogs,meals))"
   ]
  },
  {
   "cell_type": "code",
   "execution_count": 18,
   "metadata": {},
   "outputs": [
    {
     "data": {
      "text/plain": [
       "{'boss': 'vegan',\n",
       " 'chance': 'steak',\n",
       " 'lucky': 'chow',\n",
       " 'rover': 'bones',\n",
       " 'scout': 'chicken'}"
      ]
     },
     "execution_count": 18,
     "metadata": {},
     "output_type": "execute_result"
    }
   ],
   "source": [
    "dog_meals"
   ]
  },
  {
   "cell_type": "code",
   "execution_count": 20,
   "metadata": {},
   "outputs": [
    {
     "data": {
      "text/plain": [
       "'vegan'"
      ]
     },
     "execution_count": 20,
     "metadata": {},
     "output_type": "execute_result"
    }
   ],
   "source": [
    "dog_meals['boss']"
   ]
  },
  {
   "cell_type": "code",
   "execution_count": 39,
   "metadata": {},
   "outputs": [],
   "source": [
    "dogs  = ['chance', 'scout', 'rover', 'lucky', 'boss']\n",
    "meals = ['steak', 'chicken', 'bones', 'chow', 'vegan']\n",
    "\n",
    "def find_meal(some_dog):\n",
    "    dog_idx = dogs.index(some_dog)\n",
    "    return meals[dog_idx] #look in the list for the postion that came out in this variable"
   ]
  },
  {
   "cell_type": "code",
   "execution_count": 41,
   "metadata": {},
   "outputs": [
    {
     "data": {
      "text/plain": [
       "'vegan'"
      ]
     },
     "execution_count": 41,
     "metadata": {},
     "output_type": "execute_result"
    }
   ],
   "source": [
    "find_meal('boss')"
   ]
  },
  {
   "cell_type": "code",
   "execution_count": null,
   "metadata": {},
   "outputs": [],
   "source": []
  }
 ],
 "metadata": {
  "kernelspec": {
   "display_name": "Python 3",
   "language": "python",
   "name": "python3"
  },
  "language_info": {
   "codemirror_mode": {
    "name": "ipython",
    "version": 3
   },
   "file_extension": ".py",
   "mimetype": "text/x-python",
   "name": "python",
   "nbconvert_exporter": "python",
   "pygments_lexer": "ipython3",
   "version": "3.6.4"
  }
 },
 "nbformat": 4,
 "nbformat_minor": 2
}
