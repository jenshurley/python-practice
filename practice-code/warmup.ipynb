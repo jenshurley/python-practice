{
 "cells": [
  {
   "cell_type": "code",
   "execution_count": 1,
   "metadata": {},
   "outputs": [],
   "source": [
    "import pandas as pd"
   ]
  },
  {
   "cell_type": "code",
   "execution_count": 2,
   "metadata": {},
   "outputs": [
    {
     "name": "stdout",
     "output_type": "stream",
     "text": [
      "\u001b[34m01-Ins_JupyterIntro\u001b[m\u001b[m/          \u001b[34m09-Ins_ReadingWritingCSV\u001b[m\u001b[m/\r\n",
      "\u001b[34m02-Stu_NetflixRemix\u001b[m\u001b[m/          \u001b[34m10-Stu_GoodReads\u001b[m\u001b[m/\r\n",
      "\u001b[34m03-Ins_IntroToPandas\u001b[m\u001b[m/         \u001b[34m11-Stu_GoodReadsSummary\u001b[m\u001b[m/\r\n",
      "\u001b[34m04-Stu_DataFrameShop\u001b[m\u001b[m/         \u001b[31mGrammarandProductReviews.csv\u001b[m\u001b[m*\r\n",
      "\u001b[34m05-Ins_DataFunctions\u001b[m\u001b[m/         \u001b[31manalytics_paths.csv\u001b[m\u001b[m*\r\n",
      "\u001b[34m06-Stu_TrainingGrounds\u001b[m\u001b[m/       jens_practice_notebook.ipynb\r\n",
      "\u001b[34m07-Ins_ColumnManipulation\u001b[m\u001b[m/    warmup.ipynb\r\n",
      "\u001b[34m08-Stu_Hey_Arnold\u001b[m\u001b[m/\r\n"
     ]
    }
   ],
   "source": [
    "%ls"
   ]
  },
  {
   "cell_type": "code",
   "execution_count": 3,
   "metadata": {},
   "outputs": [],
   "source": [
    "df = pd.read_csv(\"analytics_paths.csv\")"
   ]
  },
  {
   "cell_type": "code",
   "execution_count": 4,
   "metadata": {},
   "outputs": [
    {
     "data": {
      "text/plain": [
       "pandas.core.frame.DataFrame"
      ]
     },
     "execution_count": 4,
     "metadata": {},
     "output_type": "execute_result"
    }
   ],
   "source": [
    "type(df)"
   ]
  },
  {
   "cell_type": "code",
   "execution_count": 5,
   "metadata": {},
   "outputs": [
    {
     "data": {
      "text/html": [
       "<div>\n",
       "<style scoped>\n",
       "    .dataframe tbody tr th:only-of-type {\n",
       "        vertical-align: middle;\n",
       "    }\n",
       "\n",
       "    .dataframe tbody tr th {\n",
       "        vertical-align: top;\n",
       "    }\n",
       "\n",
       "    .dataframe thead th {\n",
       "        text-align: right;\n",
       "    }\n",
       "</style>\n",
       "<table border=\"1\" class=\"dataframe\">\n",
       "  <thead>\n",
       "    <tr style=\"text-align: right;\">\n",
       "      <th></th>\n",
       "      <th>MCF Channel Grouping Path</th>\n",
       "      <th>Conversions</th>\n",
       "      <th>Conversion Value</th>\n",
       "      <th>Unnamed: 3</th>\n",
       "      <th>Unnamed: 4</th>\n",
       "    </tr>\n",
       "  </thead>\n",
       "  <tbody>\n",
       "    <tr>\n",
       "      <th>0</th>\n",
       "      <td>Direct &gt; Direct</td>\n",
       "      <td>1,246</td>\n",
       "      <td>47709.22</td>\n",
       "      <td>NaN</td>\n",
       "      <td>NaN</td>\n",
       "    </tr>\n",
       "    <tr>\n",
       "      <th>1</th>\n",
       "      <td>Referral &gt; Direct</td>\n",
       "      <td>1,156</td>\n",
       "      <td>48734.09</td>\n",
       "      <td>NaN</td>\n",
       "      <td>NaN</td>\n",
       "    </tr>\n",
       "    <tr>\n",
       "      <th>2</th>\n",
       "      <td>Organic Search &gt; Direct</td>\n",
       "      <td>818</td>\n",
       "      <td>5353.64</td>\n",
       "      <td>NaN</td>\n",
       "      <td>NaN</td>\n",
       "    </tr>\n",
       "    <tr>\n",
       "      <th>3</th>\n",
       "      <td>Direct &gt; Direct &gt; Direct</td>\n",
       "      <td>587</td>\n",
       "      <td>27418.20</td>\n",
       "      <td>NaN</td>\n",
       "      <td>NaN</td>\n",
       "    </tr>\n",
       "    <tr>\n",
       "      <th>4</th>\n",
       "      <td>Referral &gt; Direct &gt; Direct</td>\n",
       "      <td>472</td>\n",
       "      <td>20511.57</td>\n",
       "      <td>NaN</td>\n",
       "      <td>NaN</td>\n",
       "    </tr>\n",
       "  </tbody>\n",
       "</table>\n",
       "</div>"
      ],
      "text/plain": [
       "    MCF Channel Grouping Path Conversions  Conversion Value  Unnamed: 3  \\\n",
       "0             Direct > Direct       1,246          47709.22         NaN   \n",
       "1           Referral > Direct       1,156          48734.09         NaN   \n",
       "2     Organic Search > Direct         818           5353.64         NaN   \n",
       "3    Direct > Direct > Direct         587          27418.20         NaN   \n",
       "4  Referral > Direct > Direct         472          20511.57         NaN   \n",
       "\n",
       "   Unnamed: 4  \n",
       "0         NaN  \n",
       "1         NaN  \n",
       "2         NaN  \n",
       "3         NaN  \n",
       "4         NaN  "
      ]
     },
     "execution_count": 5,
     "metadata": {},
     "output_type": "execute_result"
    }
   ],
   "source": [
    "df.head()"
   ]
  },
  {
   "cell_type": "code",
   "execution_count": 6,
   "metadata": {},
   "outputs": [
    {
     "data": {
      "text/plain": [
       "Index(['MCF Channel Grouping Path', 'Conversions', 'Conversion Value',\n",
       "       'Unnamed: 3', 'Unnamed: 4'],\n",
       "      dtype='object')"
      ]
     },
     "execution_count": 6,
     "metadata": {},
     "output_type": "execute_result"
    }
   ],
   "source": [
    "df.columns"
   ]
  },
  {
   "cell_type": "code",
   "execution_count": 8,
   "metadata": {},
   "outputs": [],
   "source": [
    "#subsetting the dataframe on first 3 columns\n",
    "df = df[df.columns[:3]]"
   ]
  },
  {
   "cell_type": "code",
   "execution_count": 9,
   "metadata": {},
   "outputs": [
    {
     "data": {
      "text/html": [
       "<div>\n",
       "<style scoped>\n",
       "    .dataframe tbody tr th:only-of-type {\n",
       "        vertical-align: middle;\n",
       "    }\n",
       "\n",
       "    .dataframe tbody tr th {\n",
       "        vertical-align: top;\n",
       "    }\n",
       "\n",
       "    .dataframe thead th {\n",
       "        text-align: right;\n",
       "    }\n",
       "</style>\n",
       "<table border=\"1\" class=\"dataframe\">\n",
       "  <thead>\n",
       "    <tr style=\"text-align: right;\">\n",
       "      <th></th>\n",
       "      <th>MCF Channel Grouping Path</th>\n",
       "      <th>Conversions</th>\n",
       "      <th>Conversion Value</th>\n",
       "    </tr>\n",
       "  </thead>\n",
       "  <tbody>\n",
       "    <tr>\n",
       "      <th>0</th>\n",
       "      <td>Direct &gt; Direct</td>\n",
       "      <td>1,246</td>\n",
       "      <td>47709.22</td>\n",
       "    </tr>\n",
       "  </tbody>\n",
       "</table>\n",
       "</div>"
      ],
      "text/plain": [
       "  MCF Channel Grouping Path Conversions  Conversion Value\n",
       "0           Direct > Direct       1,246          47709.22"
      ]
     },
     "execution_count": 9,
     "metadata": {},
     "output_type": "execute_result"
    }
   ],
   "source": [
    "df.head(1)"
   ]
  },
  {
   "cell_type": "code",
   "execution_count": 10,
   "metadata": {},
   "outputs": [
    {
     "data": {
      "text/html": [
       "<div>\n",
       "<style scoped>\n",
       "    .dataframe tbody tr th:only-of-type {\n",
       "        vertical-align: middle;\n",
       "    }\n",
       "\n",
       "    .dataframe tbody tr th {\n",
       "        vertical-align: top;\n",
       "    }\n",
       "\n",
       "    .dataframe thead th {\n",
       "        text-align: right;\n",
       "    }\n",
       "</style>\n",
       "<table border=\"1\" class=\"dataframe\">\n",
       "  <thead>\n",
       "    <tr style=\"text-align: right;\">\n",
       "      <th></th>\n",
       "      <th>MCF Channel Grouping Path</th>\n",
       "      <th>Conversions</th>\n",
       "      <th>Conversion Value</th>\n",
       "    </tr>\n",
       "  </thead>\n",
       "  <tbody>\n",
       "    <tr>\n",
       "      <th>241</th>\n",
       "      <td>Referral &gt; Direct &gt; Direct &gt; Referral &gt; Direct...</td>\n",
       "      <td>2</td>\n",
       "      <td>199.00</td>\n",
       "    </tr>\n",
       "    <tr>\n",
       "      <th>242</th>\n",
       "      <td>Referral &gt; Direct &gt; Referral &gt; Direct &gt; Direct</td>\n",
       "      <td>2</td>\n",
       "      <td>318.00</td>\n",
       "    </tr>\n",
       "    <tr>\n",
       "      <th>243</th>\n",
       "      <td>Referral &gt; Direct &gt; Referral &gt; Referral &gt; Refe...</td>\n",
       "      <td>2</td>\n",
       "      <td>99.00</td>\n",
       "    </tr>\n",
       "    <tr>\n",
       "      <th>244</th>\n",
       "      <td>Referral &gt; Referral &gt; Referral &gt; Direct &gt; Dire...</td>\n",
       "      <td>2</td>\n",
       "      <td>119.00</td>\n",
       "    </tr>\n",
       "    <tr>\n",
       "      <th>245</th>\n",
       "      <td>Referral &gt; Referral &gt; Referral &gt; Referral &gt; Re...</td>\n",
       "      <td>2</td>\n",
       "      <td>99.00</td>\n",
       "    </tr>\n",
       "    <tr>\n",
       "      <th>246</th>\n",
       "      <td>Referral &gt; Referral &gt; Referral &gt; Organic Searc...</td>\n",
       "      <td>2</td>\n",
       "      <td>149.00</td>\n",
       "    </tr>\n",
       "    <tr>\n",
       "      <th>247</th>\n",
       "      <td>Referral &gt; Organic Search &gt; Referral &gt; Direct ...</td>\n",
       "      <td>2</td>\n",
       "      <td>485.00</td>\n",
       "    </tr>\n",
       "    <tr>\n",
       "      <th>248</th>\n",
       "      <td>Referral &gt; Social Network &gt; Referral &gt; Referral</td>\n",
       "      <td>2</td>\n",
       "      <td>627.00</td>\n",
       "    </tr>\n",
       "    <tr>\n",
       "      <th>249</th>\n",
       "      <td>Organic Search &gt; Direct &gt; Referral &gt; Direct &gt; ...</td>\n",
       "      <td>2</td>\n",
       "      <td>17.59</td>\n",
       "    </tr>\n",
       "    <tr>\n",
       "      <th>250</th>\n",
       "      <td>Organic Search &gt; Referral &gt; Referral &gt; Referra...</td>\n",
       "      <td>2</td>\n",
       "      <td>279.00</td>\n",
       "    </tr>\n",
       "  </tbody>\n",
       "</table>\n",
       "</div>"
      ],
      "text/plain": [
       "                             MCF Channel Grouping Path Conversions  \\\n",
       "241  Referral > Direct > Direct > Referral > Direct...           2   \n",
       "242     Referral > Direct > Referral > Direct > Direct           2   \n",
       "243  Referral > Direct > Referral > Referral > Refe...           2   \n",
       "244  Referral > Referral > Referral > Direct > Dire...           2   \n",
       "245  Referral > Referral > Referral > Referral > Re...           2   \n",
       "246  Referral > Referral > Referral > Organic Searc...           2   \n",
       "247  Referral > Organic Search > Referral > Direct ...           2   \n",
       "248    Referral > Social Network > Referral > Referral           2   \n",
       "249  Organic Search > Direct > Referral > Direct > ...           2   \n",
       "250  Organic Search > Referral > Referral > Referra...           2   \n",
       "\n",
       "     Conversion Value  \n",
       "241            199.00  \n",
       "242            318.00  \n",
       "243             99.00  \n",
       "244            119.00  \n",
       "245             99.00  \n",
       "246            149.00  \n",
       "247            485.00  \n",
       "248            627.00  \n",
       "249             17.59  \n",
       "250            279.00  "
      ]
     },
     "execution_count": 10,
     "metadata": {},
     "output_type": "execute_result"
    }
   ],
   "source": [
    "df.tail(10)"
   ]
  },
  {
   "cell_type": "code",
   "execution_count": 11,
   "metadata": {},
   "outputs": [
    {
     "data": {
      "text/plain": [
       "MCF Channel Grouping Path    Direct > Direct\n",
       "Conversions                            1,246\n",
       "Conversion Value                     47709.2\n",
       "Name: 0, dtype: object"
      ]
     },
     "execution_count": 11,
     "metadata": {},
     "output_type": "execute_result"
    }
   ],
   "source": [
    "df.iloc[0]"
   ]
  },
  {
   "cell_type": "code",
   "execution_count": 13,
   "metadata": {},
   "outputs": [
    {
     "data": {
      "text/plain": [
       "MCF Channel Grouping Path     object\n",
       "Conversions                   object\n",
       "Conversion Value             float64\n",
       "dtype: object"
      ]
     },
     "execution_count": 13,
     "metadata": {},
     "output_type": "execute_result"
    }
   ],
   "source": [
    "df.dtypes #notice that Conversions didn't get converted to float"
   ]
  },
  {
   "cell_type": "code",
   "execution_count": 15,
   "metadata": {},
   "outputs": [
    {
     "data": {
      "text/plain": [
       "(251, 3)"
      ]
     },
     "execution_count": 15,
     "metadata": {},
     "output_type": "execute_result"
    }
   ],
   "source": [
    "df.shape"
   ]
  },
  {
   "cell_type": "code",
   "execution_count": 17,
   "metadata": {},
   "outputs": [
    {
     "data": {
      "text/html": [
       "<div>\n",
       "<style scoped>\n",
       "    .dataframe tbody tr th:only-of-type {\n",
       "        vertical-align: middle;\n",
       "    }\n",
       "\n",
       "    .dataframe tbody tr th {\n",
       "        vertical-align: top;\n",
       "    }\n",
       "\n",
       "    .dataframe thead th {\n",
       "        text-align: right;\n",
       "    }\n",
       "</style>\n",
       "<table border=\"1\" class=\"dataframe\">\n",
       "  <thead>\n",
       "    <tr style=\"text-align: right;\">\n",
       "      <th></th>\n",
       "      <th>Conversion Value</th>\n",
       "    </tr>\n",
       "  </thead>\n",
       "  <tbody>\n",
       "    <tr>\n",
       "      <th>count</th>\n",
       "      <td>251.000000</td>\n",
       "    </tr>\n",
       "    <tr>\n",
       "      <th>mean</th>\n",
       "      <td>1459.798845</td>\n",
       "    </tr>\n",
       "    <tr>\n",
       "      <th>std</th>\n",
       "      <td>5121.855191</td>\n",
       "    </tr>\n",
       "    <tr>\n",
       "      <th>min</th>\n",
       "      <td>2.990000</td>\n",
       "    </tr>\n",
       "    <tr>\n",
       "      <th>25%</th>\n",
       "      <td>119.000000</td>\n",
       "    </tr>\n",
       "    <tr>\n",
       "      <th>50%</th>\n",
       "      <td>298.000000</td>\n",
       "    </tr>\n",
       "    <tr>\n",
       "      <th>75%</th>\n",
       "      <td>751.500000</td>\n",
       "    </tr>\n",
       "    <tr>\n",
       "      <th>max</th>\n",
       "      <td>48734.090000</td>\n",
       "    </tr>\n",
       "  </tbody>\n",
       "</table>\n",
       "</div>"
      ],
      "text/plain": [
       "       Conversion Value\n",
       "count        251.000000\n",
       "mean        1459.798845\n",
       "std         5121.855191\n",
       "min            2.990000\n",
       "25%          119.000000\n",
       "50%          298.000000\n",
       "75%          751.500000\n",
       "max        48734.090000"
      ]
     },
     "execution_count": 17,
     "metadata": {},
     "output_type": "execute_result"
    }
   ],
   "source": [
    "df.describe() #a statistical summary of columns it finds \n",
    "#when you see average worth 5 times median, your data is dominated by outliers"
   ]
  },
  {
   "cell_type": "code",
   "execution_count": 18,
   "metadata": {},
   "outputs": [
    {
     "name": "stdout",
     "output_type": "stream",
     "text": [
      "<class 'pandas.core.frame.DataFrame'>\n",
      "RangeIndex: 251 entries, 0 to 250\n",
      "Data columns (total 3 columns):\n",
      "MCF Channel Grouping Path    251 non-null object\n",
      "Conversions                  251 non-null object\n",
      "Conversion Value             251 non-null float64\n",
      "dtypes: float64(1), object(2)\n",
      "memory usage: 6.0+ KB\n"
     ]
    }
   ],
   "source": [
    "df.info() #non-null objects"
   ]
  },
  {
   "cell_type": "code",
   "execution_count": 20,
   "metadata": {},
   "outputs": [
    {
     "data": {
      "text/plain": [
       "array(['1,246', '1,156', '818', '587', '472', '370', '338', '320', '318',\n",
       "       '247', '221', '149', '131', '125', '121', '99', '94', '81', '78',\n",
       "       '77', '75', '63', '62', '61', '55', '52', '49', '46', '45', '42',\n",
       "       '42', '39', '35', '35', '32', '31', '30', '30', '30', '30', '30',\n",
       "       '27', '26', '26', '24', '24', '24', '22', '21', '20', '20', '19',\n",
       "       '19', '19', '19', '18', '17', '17', '17', '17', '16', '15', '15',\n",
       "       '14', '14', '14', '13', '13', '13', '13', '13', '12', '12', '12',\n",
       "       '11', '11', '11', '11', '11', '11', '11', '10', '10', '10', '10',\n",
       "       '9', '9', '9', '9', '9', '9', '9', '8', '8', '8', '8', '8', '8',\n",
       "       '8', '8', '8', '8', '8', '8', '8', '7', '7', '7', '7', '7', '7',\n",
       "       '7', '7', '7', '7', '6', '6', '6', '6', '6', '6', '6', '6', '6',\n",
       "       '5', '5', '5', '5', '5', '5', '5', '5', '5', '5', '5', '5', '5',\n",
       "       '5', '5', '5', '5', '5', '5', '5', '5', '5', '5', '5', '5', '5',\n",
       "       '5', '5', '5', '4', '4', '4', '4', '4', '4', '4', '4', '4', '4',\n",
       "       '4', '4', '4', '4', '4', '4', '4', '4', '4', '4', '4', '4', '4',\n",
       "       '4', '4', '4', '4', '4', '4', '4', '4', '4', '4', '4', '4', '4',\n",
       "       '4', '4', '4', '4', '4', '4', '4', '4', '4', '4', '4', '4', '4',\n",
       "       '4', '4', '4', '4', '3', '3', '3', '3', '3', '3', '3', '3', '3',\n",
       "       '3', '3', '3', '3', '3', '3', '3', '3', '3', '3', '3', '3', '3',\n",
       "       '3', '3', '2', '2', '2', '2', '2', '2', '2', '2', '2', '2', '2',\n",
       "       '2', '2', '2', '2', '2', '2', '2', '2', '2', '2'], dtype=object)"
      ]
     },
     "execution_count": 20,
     "metadata": {},
     "output_type": "execute_result"
    }
   ],
   "source": [
    "df.Conversions.values #returns numpy array"
   ]
  },
  {
   "cell_type": "code",
   "execution_count": 21,
   "metadata": {},
   "outputs": [
    {
     "data": {
      "text/plain": [
       "0      47709.22\n",
       "1      48734.09\n",
       "2       5353.64\n",
       "3      27418.20\n",
       "4      20511.57\n",
       "5      16339.34\n",
       "6      11734.82\n",
       "7       4033.20\n",
       "8      12406.28\n",
       "9      12316.31\n",
       "10     13745.72\n",
       "11      9793.66\n",
       "12      4456.31\n",
       "13      4859.07\n",
       "14      1113.10\n",
       "15      3204.00\n",
       "16      2860.98\n",
       "17      1059.63\n",
       "18      2558.51\n",
       "19      3188.00\n",
       "20      2820.14\n",
       "21      3486.10\n",
       "22       531.94\n",
       "23      3387.09\n",
       "24      2182.70\n",
       "25      3806.61\n",
       "26       109.57\n",
       "27      1988.92\n",
       "28       174.92\n",
       "29      2346.58\n",
       "         ...   \n",
       "221      119.00\n",
       "222      338.00\n",
       "223       79.00\n",
       "224       99.00\n",
       "225      427.00\n",
       "226      119.00\n",
       "227      209.00\n",
       "228      169.00\n",
       "229       17.59\n",
       "230      796.00\n",
       "231      119.00\n",
       "232      258.00\n",
       "233      507.00\n",
       "234      398.00\n",
       "235       34.37\n",
       "236       93.67\n",
       "237      378.00\n",
       "238      169.00\n",
       "239      149.00\n",
       "240       41.59\n",
       "241      199.00\n",
       "242      318.00\n",
       "243       99.00\n",
       "244      119.00\n",
       "245       99.00\n",
       "246      149.00\n",
       "247      485.00\n",
       "248      627.00\n",
       "249       17.59\n",
       "250      279.00\n",
       "Name: Conversion Value, Length: 251, dtype: float64"
      ]
     },
     "execution_count": 21,
     "metadata": {},
     "output_type": "execute_result"
    }
   ],
   "source": [
    "df['Conversion Value'] #if you had an uniterruped string you could do df.Conversions"
   ]
  },
  {
   "cell_type": "code",
   "execution_count": 23,
   "metadata": {},
   "outputs": [
    {
     "data": {
      "text/plain": [
       "366409.50999999995"
      ]
     },
     "execution_count": 23,
     "metadata": {},
     "output_type": "execute_result"
    }
   ],
   "source": [
    "df['Conversion Value'].sum() #can do ave, max, min, unique and other callables"
   ]
  },
  {
   "cell_type": "code",
   "execution_count": 24,
   "metadata": {},
   "outputs": [
    {
     "data": {
      "text/plain": [
       "(188,)"
      ]
     },
     "execution_count": 24,
     "metadata": {},
     "output_type": "execute_result"
    }
   ],
   "source": [
    "df['Conversion Value'].unique().shape"
   ]
  },
  {
   "cell_type": "code",
   "execution_count": 25,
   "metadata": {},
   "outputs": [
    {
     "data": {
      "text/plain": [
       "(251,)"
      ]
     },
     "execution_count": 25,
     "metadata": {},
     "output_type": "execute_result"
    }
   ],
   "source": [
    "df['MCF Channel Grouping Path'].unique().shape"
   ]
  },
  {
   "cell_type": "code",
   "execution_count": 27,
   "metadata": {},
   "outputs": [
    {
     "data": {
      "text/plain": [
       "'Direct > Direct'"
      ]
     },
     "execution_count": 27,
     "metadata": {},
     "output_type": "execute_result"
    }
   ],
   "source": [
    "df['MCF Channel Grouping Path'].unique()[0]"
   ]
  },
  {
   "cell_type": "code",
   "execution_count": 28,
   "metadata": {},
   "outputs": [
    {
     "data": {
      "text/plain": [
       "12"
      ]
     },
     "execution_count": 28,
     "metadata": {},
     "output_type": "execute_result"
    }
   ],
   "source": [
    "add2 = lambda x: x+2\n",
    "add2(10)"
   ]
  },
  {
   "cell_type": "markdown",
   "metadata": {},
   "source": [
    "#used dictionary notation - pandas is cool with that \n",
    "#map goes row by row, takes value from column, passes it into whatever function you provide for it\n",
    "#eval"
   ]
  },
  {
   "cell_type": "code",
   "execution_count": 35,
   "metadata": {},
   "outputs": [],
   "source": [
    "df['clean_conv'] = df['Conversions'].map(lambda x: eval(x.replace(\",\",\"\")))"
   ]
  },
  {
   "cell_type": "code",
   "execution_count": 36,
   "metadata": {},
   "outputs": [
    {
     "data": {
      "text/plain": [
       "MCF Channel Grouping Path     object\n",
       "Conversions                   object\n",
       "Conversion Value             float64\n",
       "clean_conv                     int64\n",
       "dtype: object"
      ]
     },
     "execution_count": 36,
     "metadata": {},
     "output_type": "execute_result"
    }
   ],
   "source": [
    "df.dtypes"
   ]
  },
  {
   "cell_type": "code",
   "execution_count": 37,
   "metadata": {},
   "outputs": [
    {
     "data": {
      "text/html": [
       "<div>\n",
       "<style scoped>\n",
       "    .dataframe tbody tr th:only-of-type {\n",
       "        vertical-align: middle;\n",
       "    }\n",
       "\n",
       "    .dataframe tbody tr th {\n",
       "        vertical-align: top;\n",
       "    }\n",
       "\n",
       "    .dataframe thead th {\n",
       "        text-align: right;\n",
       "    }\n",
       "</style>\n",
       "<table border=\"1\" class=\"dataframe\">\n",
       "  <thead>\n",
       "    <tr style=\"text-align: right;\">\n",
       "      <th></th>\n",
       "      <th>MCF Channel Grouping Path</th>\n",
       "      <th>Conversions</th>\n",
       "      <th>Conversion Value</th>\n",
       "      <th>clean_conv</th>\n",
       "    </tr>\n",
       "  </thead>\n",
       "  <tbody>\n",
       "    <tr>\n",
       "      <th>0</th>\n",
       "      <td>Direct &gt; Direct</td>\n",
       "      <td>1,246</td>\n",
       "      <td>47709.22</td>\n",
       "      <td>1246</td>\n",
       "    </tr>\n",
       "    <tr>\n",
       "      <th>1</th>\n",
       "      <td>Referral &gt; Direct</td>\n",
       "      <td>1,156</td>\n",
       "      <td>48734.09</td>\n",
       "      <td>1156</td>\n",
       "    </tr>\n",
       "    <tr>\n",
       "      <th>2</th>\n",
       "      <td>Organic Search &gt; Direct</td>\n",
       "      <td>818</td>\n",
       "      <td>5353.64</td>\n",
       "      <td>818</td>\n",
       "    </tr>\n",
       "    <tr>\n",
       "      <th>3</th>\n",
       "      <td>Direct &gt; Direct &gt; Direct</td>\n",
       "      <td>587</td>\n",
       "      <td>27418.20</td>\n",
       "      <td>587</td>\n",
       "    </tr>\n",
       "    <tr>\n",
       "      <th>4</th>\n",
       "      <td>Referral &gt; Direct &gt; Direct</td>\n",
       "      <td>472</td>\n",
       "      <td>20511.57</td>\n",
       "      <td>472</td>\n",
       "    </tr>\n",
       "  </tbody>\n",
       "</table>\n",
       "</div>"
      ],
      "text/plain": [
       "    MCF Channel Grouping Path Conversions  Conversion Value  clean_conv\n",
       "0             Direct > Direct       1,246          47709.22        1246\n",
       "1           Referral > Direct       1,156          48734.09        1156\n",
       "2     Organic Search > Direct         818           5353.64         818\n",
       "3    Direct > Direct > Direct         587          27418.20         587\n",
       "4  Referral > Direct > Direct         472          20511.57         472"
      ]
     },
     "execution_count": 37,
     "metadata": {},
     "output_type": "execute_result"
    }
   ],
   "source": [
    "df.head()"
   ]
  },
  {
   "cell_type": "code",
   "execution_count": 38,
   "metadata": {},
   "outputs": [],
   "source": [
    "#create new column called first_channel by creating a map call on MCF... grouping column. \n",
    "#when you call lamdba split to list > pull first element out by getting element[0]\n",
    "#put the 0 index on the result of the split. when you did x[0] it didn't like that because \n",
    "#the lambda function so you can't modify it before you use it. \n",
    "#x is a string. "
   ]
  },
  {
   "cell_type": "code",
   "execution_count": 50,
   "metadata": {},
   "outputs": [],
   "source": [
    "df['first_channel'] = df['MCF Channel Grouping Path'].map(lambda x: (x.split(\">\")[0]))"
   ]
  },
  {
   "cell_type": "code",
   "execution_count": 52,
   "metadata": {},
   "outputs": [
    {
     "data": {
      "text/html": [
       "<div>\n",
       "<style scoped>\n",
       "    .dataframe tbody tr th:only-of-type {\n",
       "        vertical-align: middle;\n",
       "    }\n",
       "\n",
       "    .dataframe tbody tr th {\n",
       "        vertical-align: top;\n",
       "    }\n",
       "\n",
       "    .dataframe thead th {\n",
       "        text-align: right;\n",
       "    }\n",
       "</style>\n",
       "<table border=\"1\" class=\"dataframe\">\n",
       "  <thead>\n",
       "    <tr style=\"text-align: right;\">\n",
       "      <th></th>\n",
       "      <th>MCF Channel Grouping Path</th>\n",
       "      <th>Conversions</th>\n",
       "      <th>Conversion Value</th>\n",
       "      <th>clean_conv</th>\n",
       "      <th>first_channel</th>\n",
       "    </tr>\n",
       "  </thead>\n",
       "  <tbody>\n",
       "    <tr>\n",
       "      <th>0</th>\n",
       "      <td>Direct &gt; Direct</td>\n",
       "      <td>1,246</td>\n",
       "      <td>47709.22</td>\n",
       "      <td>1246</td>\n",
       "      <td>Direct</td>\n",
       "    </tr>\n",
       "    <tr>\n",
       "      <th>1</th>\n",
       "      <td>Referral &gt; Direct</td>\n",
       "      <td>1,156</td>\n",
       "      <td>48734.09</td>\n",
       "      <td>1156</td>\n",
       "      <td>Referral</td>\n",
       "    </tr>\n",
       "    <tr>\n",
       "      <th>2</th>\n",
       "      <td>Organic Search &gt; Direct</td>\n",
       "      <td>818</td>\n",
       "      <td>5353.64</td>\n",
       "      <td>818</td>\n",
       "      <td>Organic Search</td>\n",
       "    </tr>\n",
       "    <tr>\n",
       "      <th>3</th>\n",
       "      <td>Direct &gt; Direct &gt; Direct</td>\n",
       "      <td>587</td>\n",
       "      <td>27418.20</td>\n",
       "      <td>587</td>\n",
       "      <td>Direct</td>\n",
       "    </tr>\n",
       "    <tr>\n",
       "      <th>4</th>\n",
       "      <td>Referral &gt; Direct &gt; Direct</td>\n",
       "      <td>472</td>\n",
       "      <td>20511.57</td>\n",
       "      <td>472</td>\n",
       "      <td>Referral</td>\n",
       "    </tr>\n",
       "  </tbody>\n",
       "</table>\n",
       "</div>"
      ],
      "text/plain": [
       "    MCF Channel Grouping Path Conversions  Conversion Value  clean_conv  \\\n",
       "0             Direct > Direct       1,246          47709.22        1246   \n",
       "1           Referral > Direct       1,156          48734.09        1156   \n",
       "2     Organic Search > Direct         818           5353.64         818   \n",
       "3    Direct > Direct > Direct         587          27418.20         587   \n",
       "4  Referral > Direct > Direct         472          20511.57         472   \n",
       "\n",
       "     first_channel  \n",
       "0          Direct   \n",
       "1        Referral   \n",
       "2  Organic Search   \n",
       "3          Direct   \n",
       "4        Referral   "
      ]
     },
     "execution_count": 52,
     "metadata": {},
     "output_type": "execute_result"
    }
   ],
   "source": [
    "df.head()"
   ]
  },
  {
   "cell_type": "code",
   "execution_count": 53,
   "metadata": {},
   "outputs": [
    {
     "data": {
      "text/plain": [
       "Direct                117\n",
       "Referral               84\n",
       "Organic Search         37\n",
       "Paid Search             5\n",
       "Social Network          4\n",
       "Other Advertising       4\n",
       "Name: first_channel, dtype: int64"
      ]
     },
     "execution_count": 53,
     "metadata": {},
     "output_type": "execute_result"
    }
   ],
   "source": [
    "df.first_channel.value_counts()"
   ]
  },
  {
   "cell_type": "code",
   "execution_count": 54,
   "metadata": {},
   "outputs": [],
   "source": [
    "#how do we get revenue for first channel?\n",
    "#split, apply, combine"
   ]
  },
  {
   "cell_type": "code",
   "execution_count": 55,
   "metadata": {},
   "outputs": [
    {
     "data": {
      "text/html": [
       "<div>\n",
       "<style scoped>\n",
       "    .dataframe tbody tr th:only-of-type {\n",
       "        vertical-align: middle;\n",
       "    }\n",
       "\n",
       "    .dataframe tbody tr th {\n",
       "        vertical-align: top;\n",
       "    }\n",
       "\n",
       "    .dataframe thead th {\n",
       "        text-align: right;\n",
       "    }\n",
       "</style>\n",
       "<table border=\"1\" class=\"dataframe\">\n",
       "  <thead>\n",
       "    <tr style=\"text-align: right;\">\n",
       "      <th></th>\n",
       "      <th>Conversion Value</th>\n",
       "      <th>clean_conv</th>\n",
       "    </tr>\n",
       "    <tr>\n",
       "      <th>first_channel</th>\n",
       "      <th></th>\n",
       "      <th></th>\n",
       "    </tr>\n",
       "  </thead>\n",
       "  <tbody>\n",
       "    <tr>\n",
       "      <th>Direct</th>\n",
       "      <td>185245.53</td>\n",
       "      <td>4181</td>\n",
       "    </tr>\n",
       "    <tr>\n",
       "      <th>Organic Search</th>\n",
       "      <td>25981.59</td>\n",
       "      <td>1815</td>\n",
       "    </tr>\n",
       "    <tr>\n",
       "      <th>Other Advertising</th>\n",
       "      <td>2961.52</td>\n",
       "      <td>77</td>\n",
       "    </tr>\n",
       "    <tr>\n",
       "      <th>Paid Search</th>\n",
       "      <td>425.12</td>\n",
       "      <td>19</td>\n",
       "    </tr>\n",
       "    <tr>\n",
       "      <th>Referral</th>\n",
       "      <td>150005.63</td>\n",
       "      <td>3260</td>\n",
       "    </tr>\n",
       "    <tr>\n",
       "      <th>Social Network</th>\n",
       "      <td>1790.12</td>\n",
       "      <td>74</td>\n",
       "    </tr>\n",
       "  </tbody>\n",
       "</table>\n",
       "</div>"
      ],
      "text/plain": [
       "                    Conversion Value  clean_conv\n",
       "first_channel                                   \n",
       "Direct                     185245.53        4181\n",
       "Organic Search              25981.59        1815\n",
       "Other Advertising            2961.52          77\n",
       "Paid Search                   425.12          19\n",
       "Referral                   150005.63        3260\n",
       "Social Network               1790.12          74"
      ]
     },
     "execution_count": 55,
     "metadata": {},
     "output_type": "execute_result"
    }
   ],
   "source": [
    "df.groupby('first_channel').sum() #this is like dragging first channel into rows of pivot table"
   ]
  },
  {
   "cell_type": "code",
   "execution_count": 56,
   "metadata": {},
   "outputs": [
    {
     "data": {
      "text/html": [
       "<div>\n",
       "<style scoped>\n",
       "    .dataframe tbody tr th:only-of-type {\n",
       "        vertical-align: middle;\n",
       "    }\n",
       "\n",
       "    .dataframe tbody tr th {\n",
       "        vertical-align: top;\n",
       "    }\n",
       "\n",
       "    .dataframe thead th {\n",
       "        text-align: right;\n",
       "    }\n",
       "</style>\n",
       "<table border=\"1\" class=\"dataframe\">\n",
       "  <thead>\n",
       "    <tr style=\"text-align: right;\">\n",
       "      <th></th>\n",
       "      <th>Conversion Value</th>\n",
       "      <th>clean_conv</th>\n",
       "    </tr>\n",
       "    <tr>\n",
       "      <th>first_channel</th>\n",
       "      <th></th>\n",
       "      <th></th>\n",
       "    </tr>\n",
       "  </thead>\n",
       "  <tbody>\n",
       "    <tr>\n",
       "      <th>Direct</th>\n",
       "      <td>1583.295128</td>\n",
       "      <td>35.735043</td>\n",
       "    </tr>\n",
       "    <tr>\n",
       "      <th>Organic Search</th>\n",
       "      <td>702.205135</td>\n",
       "      <td>49.054054</td>\n",
       "    </tr>\n",
       "    <tr>\n",
       "      <th>Other Advertising</th>\n",
       "      <td>740.380000</td>\n",
       "      <td>19.250000</td>\n",
       "    </tr>\n",
       "    <tr>\n",
       "      <th>Paid Search</th>\n",
       "      <td>85.024000</td>\n",
       "      <td>3.800000</td>\n",
       "    </tr>\n",
       "    <tr>\n",
       "      <th>Referral</th>\n",
       "      <td>1785.781310</td>\n",
       "      <td>38.809524</td>\n",
       "    </tr>\n",
       "    <tr>\n",
       "      <th>Social Network</th>\n",
       "      <td>447.530000</td>\n",
       "      <td>18.500000</td>\n",
       "    </tr>\n",
       "  </tbody>\n",
       "</table>\n",
       "</div>"
      ],
      "text/plain": [
       "                    Conversion Value  clean_conv\n",
       "first_channel                                   \n",
       "Direct                   1583.295128   35.735043\n",
       "Organic Search            702.205135   49.054054\n",
       "Other Advertising         740.380000   19.250000\n",
       "Paid Search                85.024000    3.800000\n",
       "Referral                 1785.781310   38.809524\n",
       "Social Network            447.530000   18.500000"
      ]
     },
     "execution_count": 56,
     "metadata": {},
     "output_type": "execute_result"
    }
   ],
   "source": [
    "df.groupby('first_channel').mean()"
   ]
  },
  {
   "cell_type": "code",
   "execution_count": 59,
   "metadata": {},
   "outputs": [],
   "source": [
    "df.groupby('first_channel').agg(['sum','mean']).to_clipboard() #looks for sum and ave for each "
   ]
  },
  {
   "cell_type": "code",
   "execution_count": 66,
   "metadata": {},
   "outputs": [
    {
     "data": {
      "text/plain": [
       "Direct             117\n",
       "Referral            84\n",
       "Organic Search      37\n",
       "Paid Search          5\n",
       "Social Network       4\n",
       "Name: first_channel, dtype: int64"
      ]
     },
     "execution_count": 66,
     "metadata": {},
     "output_type": "execute_result"
    }
   ],
   "source": [
    "df.sort_values(by=['Conversion Value'], ascending=False)['first_channel'].value_counts().head()"
   ]
  },
  {
   "cell_type": "code",
   "execution_count": 69,
   "metadata": {},
   "outputs": [
    {
     "data": {
      "text/html": [
       "<div>\n",
       "<style scoped>\n",
       "    .dataframe tbody tr th:only-of-type {\n",
       "        vertical-align: middle;\n",
       "    }\n",
       "\n",
       "    .dataframe tbody tr th {\n",
       "        vertical-align: top;\n",
       "    }\n",
       "\n",
       "    .dataframe thead th {\n",
       "        text-align: right;\n",
       "    }\n",
       "</style>\n",
       "<table border=\"1\" class=\"dataframe\">\n",
       "  <thead>\n",
       "    <tr style=\"text-align: right;\">\n",
       "      <th></th>\n",
       "      <th>MCF Channel Grouping Path</th>\n",
       "      <th>Conversions</th>\n",
       "      <th>Conversion Value</th>\n",
       "      <th>clean_conv</th>\n",
       "      <th>first_channel</th>\n",
       "    </tr>\n",
       "  </thead>\n",
       "  <tbody>\n",
       "    <tr>\n",
       "      <th>3</th>\n",
       "      <td>Direct &gt; Direct &gt; Direct</td>\n",
       "      <td>587</td>\n",
       "      <td>27418.20</td>\n",
       "      <td>587</td>\n",
       "      <td>Direct</td>\n",
       "    </tr>\n",
       "    <tr>\n",
       "      <th>4</th>\n",
       "      <td>Referral &gt; Direct &gt; Direct</td>\n",
       "      <td>472</td>\n",
       "      <td>20511.57</td>\n",
       "      <td>472</td>\n",
       "      <td>Referral</td>\n",
       "    </tr>\n",
       "    <tr>\n",
       "      <th>5</th>\n",
       "      <td>Referral &gt; Referral</td>\n",
       "      <td>370</td>\n",
       "      <td>16339.34</td>\n",
       "      <td>370</td>\n",
       "      <td>Referral</td>\n",
       "    </tr>\n",
       "    <tr>\n",
       "      <th>6</th>\n",
       "      <td>Direct &gt; Referral</td>\n",
       "      <td>338</td>\n",
       "      <td>11734.82</td>\n",
       "      <td>338</td>\n",
       "      <td>Direct</td>\n",
       "    </tr>\n",
       "    <tr>\n",
       "      <th>7</th>\n",
       "      <td>Organic Search &gt; Direct &gt; Direct</td>\n",
       "      <td>320</td>\n",
       "      <td>4033.20</td>\n",
       "      <td>320</td>\n",
       "      <td>Organic Search</td>\n",
       "    </tr>\n",
       "    <tr>\n",
       "      <th>8</th>\n",
       "      <td>Direct &gt; Direct &gt; Direct &gt; Direct</td>\n",
       "      <td>318</td>\n",
       "      <td>12406.28</td>\n",
       "      <td>318</td>\n",
       "      <td>Direct</td>\n",
       "    </tr>\n",
       "  </tbody>\n",
       "</table>\n",
       "</div>"
      ],
      "text/plain": [
       "           MCF Channel Grouping Path Conversions  Conversion Value  \\\n",
       "3           Direct > Direct > Direct         587          27418.20   \n",
       "4         Referral > Direct > Direct         472          20511.57   \n",
       "5                Referral > Referral         370          16339.34   \n",
       "6                  Direct > Referral         338          11734.82   \n",
       "7   Organic Search > Direct > Direct         320           4033.20   \n",
       "8  Direct > Direct > Direct > Direct         318          12406.28   \n",
       "\n",
       "   clean_conv    first_channel  \n",
       "3         587          Direct   \n",
       "4         472        Referral   \n",
       "5         370        Referral   \n",
       "6         338          Direct   \n",
       "7         320  Organic Search   \n",
       "8         318          Direct   "
      ]
     },
     "execution_count": 69,
     "metadata": {},
     "output_type": "execute_result"
    }
   ],
   "source": [
    "df.query('clean_conv > 300').query('clean_conv < 800')"
   ]
  },
  {
   "cell_type": "code",
   "execution_count": 78,
   "metadata": {},
   "outputs": [
    {
     "data": {
      "text/html": [
       "<div>\n",
       "<style scoped>\n",
       "    .dataframe tbody tr th:only-of-type {\n",
       "        vertical-align: middle;\n",
       "    }\n",
       "\n",
       "    .dataframe tbody tr th {\n",
       "        vertical-align: top;\n",
       "    }\n",
       "\n",
       "    .dataframe thead th {\n",
       "        text-align: right;\n",
       "    }\n",
       "</style>\n",
       "<table border=\"1\" class=\"dataframe\">\n",
       "  <thead>\n",
       "    <tr style=\"text-align: right;\">\n",
       "      <th></th>\n",
       "      <th>MCF Channel Grouping Path</th>\n",
       "      <th>Conversions</th>\n",
       "      <th>Conversion Value</th>\n",
       "      <th>clean_conv</th>\n",
       "      <th>first_channel</th>\n",
       "    </tr>\n",
       "  </thead>\n",
       "  <tbody>\n",
       "    <tr>\n",
       "      <th>0</th>\n",
       "      <td>Direct &gt; Direct</td>\n",
       "      <td>1,246</td>\n",
       "      <td>47709.22</td>\n",
       "      <td>1246</td>\n",
       "      <td>Direct</td>\n",
       "    </tr>\n",
       "    <tr>\n",
       "      <th>3</th>\n",
       "      <td>Direct &gt; Direct &gt; Direct</td>\n",
       "      <td>587</td>\n",
       "      <td>27418.20</td>\n",
       "      <td>587</td>\n",
       "      <td>Direct</td>\n",
       "    </tr>\n",
       "    <tr>\n",
       "      <th>6</th>\n",
       "      <td>Direct &gt; Referral</td>\n",
       "      <td>338</td>\n",
       "      <td>11734.82</td>\n",
       "      <td>338</td>\n",
       "      <td>Direct</td>\n",
       "    </tr>\n",
       "    <tr>\n",
       "      <th>8</th>\n",
       "      <td>Direct &gt; Direct &gt; Direct &gt; Direct</td>\n",
       "      <td>318</td>\n",
       "      <td>12406.28</td>\n",
       "      <td>318</td>\n",
       "      <td>Direct</td>\n",
       "    </tr>\n",
       "  </tbody>\n",
       "</table>\n",
       "</div>"
      ],
      "text/plain": [
       "           MCF Channel Grouping Path Conversions  Conversion Value  \\\n",
       "0                    Direct > Direct       1,246          47709.22   \n",
       "3           Direct > Direct > Direct         587          27418.20   \n",
       "6                  Direct > Referral         338          11734.82   \n",
       "8  Direct > Direct > Direct > Direct         318          12406.28   \n",
       "\n",
       "   clean_conv first_channel  \n",
       "0        1246       Direct   \n",
       "3         587       Direct   \n",
       "6         338       Direct   \n",
       "8         318       Direct   "
      ]
     },
     "execution_count": 78,
     "metadata": {},
     "output_type": "execute_result"
    }
   ],
   "source": [
    "df[ (df['clean_conv'] > 300) & (df['first_channel'] == 'Direct ') ]\n",
    "#subsets if corresponding row returns true - a common filtering pattern\n",
    "#calling df on intersection of two conditions in parentheses"
   ]
  },
  {
   "cell_type": "code",
   "execution_count": null,
   "metadata": {},
   "outputs": [],
   "source": []
  }
 ],
 "metadata": {
  "kernelspec": {
   "display_name": "Python 3",
   "language": "python",
   "name": "python3"
  },
  "language_info": {
   "codemirror_mode": {
    "name": "ipython",
    "version": 3
   },
   "file_extension": ".py",
   "mimetype": "text/x-python",
   "name": "python",
   "nbconvert_exporter": "python",
   "pygments_lexer": "ipython3",
   "version": "3.6.4"
  }
 },
 "nbformat": 4,
 "nbformat_minor": 2
}
