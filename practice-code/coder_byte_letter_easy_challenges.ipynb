{
 "cells": [
  {
   "cell_type": "markdown",
   "metadata": {},
   "source": [
    "Using the Python language, have the function LetterChanges(str) take the str parameter being passed and modify it using the following algorithm. \n",
    "-Replace every letter in the string with the letter following it in the alphabet (ie. c becomes d, z becomes a). \n",
    "-Capitalize every vowel in this new string (a, e, i, o, u) -Return this modified string.\n",
    "(coderbyte)"
   ]
  },
  {
   "cell_type": "code",
   "execution_count": 1,
   "metadata": {},
   "outputs": [],
   "source": [
    "#chr?"
   ]
  },
  {
   "cell_type": "code",
   "execution_count": 2,
   "metadata": {},
   "outputs": [],
   "source": [
    "#offset_alphabet = alphabet.insert(0, alphabet.pop())\n",
    "##list operators...  myList += [\".\"]\n",
    "##a.insert(0, a.pop()) -- this didn't work. "
   ]
  },
  {
   "cell_type": "code",
   "execution_count": 3,
   "metadata": {},
   "outputs": [
    {
     "name": "stdout",
     "output_type": "stream",
     "text": [
      "What string would you like to modify?a\n"
     ]
    }
   ],
   "source": [
    "alphabet = []\n",
    "for letter in range(97,123):\n",
    "    alphabet.append(chr(letter))\n",
    "offset_alphabet = alphabet[-1:] + alphabet[:-1]\n",
    "alpha_code = dict(zip(alphabet, offset_alphabet))\n",
    "#now to retrieve the values for the input keys and return them in order. \n",
    "#the input string also needs to be split into a list?\n",
    "raw_string = input(\"What string would you like to modify?\")\n",
    "new_string = raw_string"
   ]
  },
  {
   "cell_type": "code",
   "execution_count": 2,
   "metadata": {},
   "outputs": [
    {
     "data": {
      "text/plain": [
       "{'a': 'z',\n",
       " 'b': 'a',\n",
       " 'c': 'b',\n",
       " 'd': 'c',\n",
       " 'e': 'd',\n",
       " 'f': 'e',\n",
       " 'g': 'f',\n",
       " 'h': 'g',\n",
       " 'i': 'h',\n",
       " 'j': 'i',\n",
       " 'k': 'j',\n",
       " 'l': 'k',\n",
       " 'm': 'l',\n",
       " 'n': 'm',\n",
       " 'o': 'n',\n",
       " 'p': 'o',\n",
       " 'q': 'p',\n",
       " 'r': 'q',\n",
       " 's': 'r',\n",
       " 't': 's',\n",
       " 'u': 't',\n",
       " 'v': 'u',\n",
       " 'w': 'v',\n",
       " 'x': 'w',\n",
       " 'y': 'x',\n",
       " 'z': 'y'}"
      ]
     },
     "execution_count": 2,
     "metadata": {},
     "output_type": "execute_result"
    }
   ],
   "source": [
    "alpha_code"
   ]
  },
  {
   "cell_type": "markdown",
   "metadata": {},
   "source": [
    "#The published solution\n"
   ]
  },
  {
   "cell_type": "code",
   "execution_count": 12,
   "metadata": {},
   "outputs": [
    {
     "name": "stdout",
     "output_type": "stream",
     "text": [
      "gvO_Ujnft\n"
     ]
    }
   ],
   "source": [
    "def letter_changes(str):\n",
    "    new_string =''\n",
    "    for char in str:\n",
    "        if char.isalpha():\n",
    "            if char.lower() == 'z':\n",
    "                char = \"a\"\n",
    "            else:\n",
    "                char = chr(ord(char)+1)\n",
    "                # if alphabetic character then add 1 to its ASCII value \n",
    "                # by using the built-in ord function then convert back to character\n",
    "            if char in 'aeiou':\n",
    "                char = char.upper()\n",
    "        new_string = new_string + char\n",
    "    return new_string\n",
    "print(letter_changes(\"fun_times\"))"
   ]
  },
  {
   "cell_type": "markdown",
   "metadata": {},
   "source": [
    "Using the Python language, have the function LongestWord(sen) take the sen parameter being passed and return the largest word in the string. If there are two or more words that are the same length, return the first word from the string with that length. Ignore punctuation and assume sen will not be empty. \n",
    "It might be easier to first convert the string into an array of words, and then loop through the array searching for the word with the most characters."
   ]
  },
  {
   "cell_type": "code",
   "execution_count": 14,
   "metadata": {},
   "outputs": [
    {
     "name": "stdout",
     "output_type": "stream",
     "text": [
      "revolutionary\n"
     ]
    }
   ],
   "source": [
    "def longest_word(sen):\n",
    "    words = sen.split(\" \")\n",
    "    # the list max function will return the element in arr\n",
    "    # with the longest length because we specify key=len\n",
    "    return max(words, key=len)\n",
    "print(longest_word(\"revolutionary classes deliverd all up.\"))\n"
   ]
  },
  {
   "cell_type": "code",
   "execution_count": null,
   "metadata": {},
   "outputs": [],
   "source": []
  }
 ],
 "metadata": {
  "kernelspec": {
   "display_name": "Python 3",
   "language": "python",
   "name": "python3"
  },
  "language_info": {
   "codemirror_mode": {
    "name": "ipython",
    "version": 3
   },
   "file_extension": ".py",
   "mimetype": "text/x-python",
   "name": "python",
   "nbconvert_exporter": "python",
   "pygments_lexer": "ipython3",
   "version": "3.6.4"
  }
 },
 "nbformat": 4,
 "nbformat_minor": 2
}
