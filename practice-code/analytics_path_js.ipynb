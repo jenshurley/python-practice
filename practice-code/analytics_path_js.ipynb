{
 "cells": [
  {
   "cell_type": "code",
   "execution_count": 42,
   "metadata": {},
   "outputs": [],
   "source": [
    "import csv\n",
    "from collections import defaultdict\n",
    "\n",
    "\n",
    "# More the CSV to the same folder as your script\n",
    "# To avoid annoying file not found errors\n",
    "with open('/Users/jennifershurley/Downloads/analytics_paths.csv', 'r') as f:\n",
    "    reader = csv.reader(f)\n",
    "    next(reader) # Skip headwer row\n",
    "    data = list(reader)\n",
    "    # now data is a list of rows\n",
    "\n",
    "# Hint - use a default dict for group and sum operations\n",
    "first_touch = defaultdict(int)\n",
    "path_lengths = []\n",
    "count = 0 \n",
    "for row in data: \n",
    "    user_path = row[0]\n",
    "    items_in_path = user_path.split(\">\")\n",
    "    for item in items_in_path:\n",
    "        path_lengths.append(len(items_in_path))\n",
    "        #print(path_lengths)\n"
   ]
  },
  {
   "cell_type": "code",
   "execution_count": 36,
   "metadata": {},
   "outputs": [
    {
     "data": {
      "text/plain": [
       "[8]"
      ]
     },
     "execution_count": 36,
     "metadata": {},
     "output_type": "execute_result"
    }
   ],
   "source": [
    "path_lengths"
   ]
  },
  {
   "cell_type": "code",
   "execution_count": null,
   "metadata": {},
   "outputs": [],
   "source": []
  }
 ],
 "metadata": {
  "kernelspec": {
   "display_name": "Python 3",
   "language": "python",
   "name": "python3"
  },
  "language_info": {
   "codemirror_mode": {
    "name": "ipython",
    "version": 3
   },
   "file_extension": ".py",
   "mimetype": "text/x-python",
   "name": "python",
   "nbconvert_exporter": "python",
   "pygments_lexer": "ipython3",
   "version": "3.6.4"
  }
 },
 "nbformat": 4,
 "nbformat_minor": 2
}
