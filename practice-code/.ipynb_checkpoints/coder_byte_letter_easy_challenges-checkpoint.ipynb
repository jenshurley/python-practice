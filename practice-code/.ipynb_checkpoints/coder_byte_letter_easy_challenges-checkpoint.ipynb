{
 "cells": [
  {
   "cell_type": "markdown",
   "metadata": {},
   "source": [
    "Using the Python language, have the function LetterChanges(str) take the str parameter being passed and modify it using the following algorithm. Replace every letter in the string with the letter following it in the alphabet (ie. c becomes d, z becomes a). Then capitalize every vowel in this new string (a, e, i, o, u) and finally return this modified string. "
   ]
  },
  {
   "cell_type": "code",
   "execution_count": 1,
   "metadata": {},
   "outputs": [],
   "source": [
    "#chr?"
   ]
  },
  {
   "cell_type": "code",
   "execution_count": 2,
   "metadata": {},
   "outputs": [],
   "source": [
    "#offset_alphabet = alphabet.insert(0, alphabet.pop())\n",
    "##list operators...  myList += [\".\"]\n",
    "##a.insert(0, a.pop()) -- this didn't work. "
   ]
  },
  {
   "cell_type": "code",
   "execution_count": 1,
   "metadata": {},
   "outputs": [],
   "source": [
    "alphabet = []\n",
    "for letter in range(97,123):\n",
    "    alphabet.append(chr(letter))\n",
    "offset_alphabet = alphabet[-1:] + alphabet[:-1]\n",
    "alpha_code = dict(zip(alphabet, offset_alphabet))\n",
    "#now to retrieve the values for the input keys and return them in order. \n",
    "#the input string also needs to be split into a list?"
   ]
  },
  {
   "cell_type": "code",
   "execution_count": 2,
   "metadata": {},
   "outputs": [
    {
     "data": {
      "text/plain": [
       "{'a': 'z',\n",
       " 'b': 'a',\n",
       " 'c': 'b',\n",
       " 'd': 'c',\n",
       " 'e': 'd',\n",
       " 'f': 'e',\n",
       " 'g': 'f',\n",
       " 'h': 'g',\n",
       " 'i': 'h',\n",
       " 'j': 'i',\n",
       " 'k': 'j',\n",
       " 'l': 'k',\n",
       " 'm': 'l',\n",
       " 'n': 'm',\n",
       " 'o': 'n',\n",
       " 'p': 'o',\n",
       " 'q': 'p',\n",
       " 'r': 'q',\n",
       " 's': 'r',\n",
       " 't': 's',\n",
       " 'u': 't',\n",
       " 'v': 'u',\n",
       " 'w': 'v',\n",
       " 'x': 'w',\n",
       " 'y': 'x',\n",
       " 'z': 'y'}"
      ]
     },
     "execution_count": 2,
     "metadata": {},
     "output_type": "execute_result"
    }
   ],
   "source": [
    "alpha_code"
   ]
  },
  {
   "cell_type": "code",
   "execution_count": null,
   "metadata": {},
   "outputs": [],
   "source": []
  }
 ],
 "metadata": {
  "kernelspec": {
   "display_name": "Python 3",
   "language": "python",
   "name": "python3"
  },
  "language_info": {
   "codemirror_mode": {
    "name": "ipython",
    "version": 3
   },
   "file_extension": ".py",
   "mimetype": "text/x-python",
   "name": "python",
   "nbconvert_exporter": "python",
   "pygments_lexer": "ipython3",
   "version": "3.6.4"
  }
 },
 "nbformat": 4,
 "nbformat_minor": 2
}
