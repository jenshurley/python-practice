{
 "cells": [
  {
   "cell_type": "code",
   "execution_count": 1,
   "metadata": {},
   "outputs": [],
   "source": [
    "words = ['workup', 'handy', 'thought', 'hawkish', 'armadillo', 'phenomenon']"
   ]
  },
  {
   "cell_type": "markdown",
   "metadata": {},
   "source": [
    "A) Find the longest word in a list (bonus: if a tie, try to find the that starts with the earliest letter (a > b > c))\n",
    "\n",
    "B) Find the shortest word in a list (bonus: if a tie, try to find the that starts with the earliest letter (a > b > c))\n",
    "\n",
    "C) Find the avg length of each word in the list\n",
    "\n",
    "D) Create a new list, where each item is the first letter of each word in the original list\n",
    "\n",
    "E) Create a new list, where each item is the last letter of each word in the original list\n",
    "\n",
    "F) With the list you created in E), join them all to see if they form a word.... :)\n",
    "\n",
    "G) Create a new list, where each item is the word backward eg ['slamina', 'srac', 'toab', etc....]\n",
    "\n",
    "H) Convert the list from G) to a large string, where each item is separated by a | character\n",
    "\n",
    "I) Create a new list, where each list item is a tuple, consisting of \n",
    "    [(workup, handy), (handy, thought), (thought, hawkish), etc..]\n",
    "    \n",
    "J) Sort the list a-z by the 2nd letter in each word\n",
    "\n",
    "import string\n",
    "letters = string.ascii_lowercase\n",
    "some_word = \"codingpractice\"\n",
    "\n",
    "K)  For some_word, shift each letter by 1 letter in the alphabet"
   ]
  },
  {
   "cell_type": "markdown",
   "metadata": {},
   "source": [
    "### Counting words"
   ]
  },
  {
   "cell_type": "code",
   "execution_count": 29,
   "metadata": {},
   "outputs": [],
   "source": [
    "#from Russia tweets video\n",
    "items = ['dog', 'dog', 'dog', 'trumpet', 'tractor', 'wheel', 'wheel']\n",
    "counts = {}"
   ]
  },
  {
   "cell_type": "markdown",
   "metadata": {},
   "source": [
    "#### Using a For loop to create dictionary"
   ]
  },
  {
   "cell_type": "code",
   "execution_count": 30,
   "metadata": {},
   "outputs": [],
   "source": [
    "for x in items:\n",
    "    if x in counts:\n",
    "        counts[x] +=1\n",
    "    else: \n",
    "        counts [x]= 1\n",
    "        #if item is only in key once, set value to 1\n",
    "        "
   ]
  },
  {
   "cell_type": "code",
   "execution_count": 31,
   "metadata": {},
   "outputs": [
    {
     "data": {
      "text/plain": [
       "{'dog': 3, 'tractor': 1, 'trumpet': 1, 'wheel': 2}"
      ]
     },
     "execution_count": 31,
     "metadata": {},
     "output_type": "execute_result"
    }
   ],
   "source": [
    "counts"
   ]
  },
  {
   "cell_type": "code",
   "execution_count": 32,
   "metadata": {},
   "outputs": [],
   "source": [
    "from collections import Counter"
   ]
  },
  {
   "cell_type": "markdown",
   "metadata": {},
   "source": [
    "#### Using Counter most_common"
   ]
  },
  {
   "cell_type": "code",
   "execution_count": 33,
   "metadata": {},
   "outputs": [
    {
     "data": {
      "text/plain": [
       "[('dog', 3), ('wheel', 2), ('trumpet', 1), ('tractor', 1)]"
      ]
     },
     "execution_count": 33,
     "metadata": {},
     "output_type": "execute_result"
    }
   ],
   "source": [
    "Counter(items).most_common(10)"
   ]
  },
  {
   "cell_type": "markdown",
   "metadata": {},
   "source": [
    "**some dictionary stuff**"
   ]
  },
  {
   "cell_type": "code",
   "execution_count": 12,
   "metadata": {},
   "outputs": [
    {
     "data": {
      "text/plain": [
       "True"
      ]
     },
     "execution_count": 12,
     "metadata": {},
     "output_type": "execute_result"
    }
   ],
   "source": [
    "'dog' in counts"
   ]
  },
  {
   "cell_type": "code",
   "execution_count": 14,
   "metadata": {},
   "outputs": [
    {
     "data": {
      "text/plain": [
       "dict_keys(['dog', 'trumpet', 'tractor', 'wheel'])"
      ]
     },
     "execution_count": 14,
     "metadata": {},
     "output_type": "execute_result"
    }
   ],
   "source": [
    "counts.keys()"
   ]
  },
  {
   "cell_type": "code",
   "execution_count": 16,
   "metadata": {},
   "outputs": [
    {
     "data": {
      "text/plain": [
       "dict_values([3, 1, 1, 2])"
      ]
     },
     "execution_count": 16,
     "metadata": {},
     "output_type": "execute_result"
    }
   ],
   "source": [
    "counts.values()"
   ]
  },
  {
   "cell_type": "markdown",
   "metadata": {},
   "source": [
    "#### put a bunch of string phrases into giant string"
   ]
  },
  {
   "cell_type": "code",
   "execution_count": 41,
   "metadata": {},
   "outputs": [],
   "source": [
    "textstuff = ['today is a hard day', 'hi stu', 'the dogs are asleep', 'watching a video', 'dogs are being good', 'hi stu']"
   ]
  },
  {
   "cell_type": "code",
   "execution_count": 42,
   "metadata": {},
   "outputs": [
    {
     "data": {
      "text/plain": [
       "[('a', 2), ('hi', 2), ('stu', 2), ('dogs', 2), ('are', 2)]"
      ]
     },
     "execution_count": 42,
     "metadata": {},
     "output_type": "execute_result"
    }
   ],
   "source": [
    "#split that and pass it to a counter\n",
    "Counter(\"Today is a hard day hi stu the dogs are asleep watching a video dogs are being good hi stu\".split()).most_common(5)"
   ]
  },
  {
   "cell_type": "markdown",
   "metadata": {},
   "source": [
    "*if you get a list not callable error try rerunning the import*"
   ]
  },
  {
   "cell_type": "markdown",
   "metadata": {},
   "source": [
    "### Joining lists into strings"
   ]
  },
  {
   "cell_type": "code",
   "execution_count": 36,
   "metadata": {},
   "outputs": [
    {
     "data": {
      "text/plain": [
       "'jenshurley'"
      ]
     },
     "execution_count": 36,
     "metadata": {},
     "output_type": "execute_result"
    }
   ],
   "source": [
    "\"\".join(['jen', 'shurley'])"
   ]
  },
  {
   "cell_type": "code",
   "execution_count": 37,
   "metadata": {},
   "outputs": [
    {
     "data": {
      "text/plain": [
       "'jen shurley'"
      ]
     },
     "execution_count": 37,
     "metadata": {},
     "output_type": "execute_result"
    }
   ],
   "source": [
    "\" \".join(['jen', 'shurley'])"
   ]
  },
  {
   "cell_type": "markdown",
   "metadata": {},
   "source": [
    "### Bigrams & Trigrams"
   ]
  },
  {
   "cell_type": "code",
   "execution_count": 43,
   "metadata": {},
   "outputs": [],
   "source": [
    "sent = \"Today is a hard day hi stu the dogs are asleep watching a video dogs are being good hi stu\".split()\n",
    "#split -->"
   ]
  },
  {
   "cell_type": "code",
   "execution_count": 47,
   "metadata": {},
   "outputs": [
    {
     "data": {
      "text/plain": [
       "[(('hi', 'stu'), 2),\n",
       " (('dogs', 'are'), 2),\n",
       " (('Today', 'is'), 1),\n",
       " (('is', 'a'), 1),\n",
       " (('a', 'hard'), 1)]"
      ]
     },
     "execution_count": 47,
     "metadata": {},
     "output_type": "execute_result"
    }
   ],
   "source": [
    "Counter(list(zip(sent[0:],sent[1:]))).most_common(5)"
   ]
  },
  {
   "cell_type": "code",
   "execution_count": 48,
   "metadata": {},
   "outputs": [
    {
     "data": {
      "text/plain": [
       "[(('Today', 'is', 'a'), 1),\n",
       " (('is', 'a', 'hard'), 1),\n",
       " (('a', 'hard', 'day'), 1),\n",
       " (('hard', 'day', 'hi'), 1),\n",
       " (('day', 'hi', 'stu'), 1)]"
      ]
     },
     "execution_count": 48,
     "metadata": {},
     "output_type": "execute_result"
    }
   ],
   "source": [
    "Counter(list(zip(sent[0:], sent[1:], sent[2:]))).most_common(5)"
   ]
  },
  {
   "cell_type": "markdown",
   "metadata": {},
   "source": [
    "#### Longest word"
   ]
  },
  {
   "cell_type": "code",
   "execution_count": 109,
   "metadata": {},
   "outputs": [],
   "source": [
    "words = ['workup', 'handy', 'thought', 'hawkish', 'armadillo', 'phenomenon']"
   ]
  },
  {
   "cell_type": "code",
   "execution_count": 110,
   "metadata": {},
   "outputs": [
    {
     "name": "stdout",
     "output_type": "stream",
     "text": [
      "workup\n",
      "armadillo\n"
     ]
    }
   ],
   "source": [
    "print(max(words))\n",
    "#this just gives you the alphabetically last. \n",
    "print(min(words))"
   ]
  },
  {
   "cell_type": "code",
   "execution_count": 111,
   "metadata": {},
   "outputs": [],
   "source": [
    "word_lengths = [len(word) for word in words]\n",
    "word_len_dict = dict(zip(words,word_lengths))\n",
    "#max(word_lengths)"
   ]
  },
  {
   "cell_type": "code",
   "execution_count": 112,
   "metadata": {},
   "outputs": [
    {
     "data": {
      "text/plain": [
       "{'armadillo': 9,\n",
       " 'handy': 5,\n",
       " 'hawkish': 7,\n",
       " 'phenomenon': 10,\n",
       " 'thought': 7,\n",
       " 'workup': 6}"
      ]
     },
     "execution_count": 112,
     "metadata": {},
     "output_type": "execute_result"
    }
   ],
   "source": [
    "word_len_dict"
   ]
  },
  {
   "cell_type": "code",
   "execution_count": 113,
   "metadata": {},
   "outputs": [
    {
     "data": {
      "text/plain": [
       "10"
      ]
     },
     "execution_count": 113,
     "metadata": {},
     "output_type": "execute_result"
    }
   ],
   "source": [
    "#for key, value in word_len_dict.items():\n",
    "  #  print(max(value))\n",
    "max(word_len_dict.values())"
   ]
  },
  {
   "cell_type": "code",
   "execution_count": 114,
   "metadata": {},
   "outputs": [
    {
     "data": {
      "text/plain": [
       "5"
      ]
     },
     "execution_count": 114,
     "metadata": {},
     "output_type": "execute_result"
    }
   ],
   "source": [
    "min(word_lengths)\n",
    "#how do I print the key associated with that value??"
   ]
  },
  {
   "cell_type": "markdown",
   "metadata": {},
   "source": [
    "**the published solution: use a sort key function**"
   ]
  },
  {
   "cell_type": "code",
   "execution_count": 118,
   "metadata": {},
   "outputs": [
    {
     "data": {
      "text/plain": [
       "['phenomenon', 'armadillo', 'thought', 'hawkish', 'workup', 'handy']"
      ]
     },
     "execution_count": 118,
     "metadata": {},
     "output_type": "execute_result"
    }
   ],
   "source": [
    "sorted(words, key=lambda x: len(x), reverse=True)"
   ]
  },
  {
   "cell_type": "code",
   "execution_count": 122,
   "metadata": {},
   "outputs": [
    {
     "data": {
      "text/plain": [
       "44"
      ]
     },
     "execution_count": 122,
     "metadata": {},
     "output_type": "execute_result"
    }
   ],
   "source": [
    "sum(word_lengths)"
   ]
  },
  {
   "cell_type": "code",
   "execution_count": 127,
   "metadata": {},
   "outputs": [
    {
     "data": {
      "text/plain": [
       "7.333333333333333"
      ]
     },
     "execution_count": 127,
     "metadata": {},
     "output_type": "execute_result"
    }
   ],
   "source": [
    "sum(word_lengths)/len(word_lengths)\n",
    "#average"
   ]
  },
  {
   "cell_type": "markdown",
   "metadata": {},
   "source": [
    "**average word length**\n",
    "*sum([len(x) for x in words]) / len(words)*"
   ]
  },
  {
   "cell_type": "code",
   "execution_count": 128,
   "metadata": {},
   "outputs": [],
   "source": [
    "first_letter = [w[0] for w in words]"
   ]
  },
  {
   "cell_type": "code",
   "execution_count": 129,
   "metadata": {},
   "outputs": [],
   "source": [
    "last_letter = [w[-1] for w in words]"
   ]
  },
  {
   "cell_type": "code",
   "execution_count": 130,
   "metadata": {},
   "outputs": [
    {
     "name": "stdout",
     "output_type": "stream",
     "text": [
      "['w', 'h', 't', 'h', 'a', 'p'] ['p', 'y', 't', 'h', 'o', 'n']\n"
     ]
    }
   ],
   "source": [
    "print(first_letter, last_letter)"
   ]
  },
  {
   "cell_type": "code",
   "execution_count": 131,
   "metadata": {},
   "outputs": [
    {
     "data": {
      "text/plain": [
       "'python'"
      ]
     },
     "execution_count": 131,
     "metadata": {},
     "output_type": "execute_result"
    }
   ],
   "source": [
    "\"\".join(last_letter)"
   ]
  },
  {
   "cell_type": "markdown",
   "metadata": {},
   "source": [
    "**reversed words by stepping backwards**"
   ]
  },
  {
   "cell_type": "code",
   "execution_count": 140,
   "metadata": {},
   "outputs": [],
   "source": [
    "reversed_words =[w[::-1]for w in words]\n",
    "#steps backwards"
   ]
  },
  {
   "cell_type": "code",
   "execution_count": 141,
   "metadata": {},
   "outputs": [
    {
     "data": {
      "text/plain": [
       "['pukrow', 'ydnah', 'thguoht', 'hsikwah', 'ollidamra', 'nonemonehp']"
      ]
     },
     "execution_count": 141,
     "metadata": {},
     "output_type": "execute_result"
    }
   ],
   "source": [
    "reversed_words"
   ]
  },
  {
   "cell_type": "markdown",
   "metadata": {},
   "source": [
    "Convert the list from G) to a large string, where each item is separated by a | character\n",
    "\n",
    "I) Create a new list, where each list item is a tuple, consisting of [(workup, handy), (handy, thought), (thought, hawkish), etc..]\n",
    "\n",
    "J) Sort the list a-z by the 2nd letter in each word\n",
    "\n",
    "import string letters = string.ascii_lowercase some_word = \"codingpractice\"\n",
    "\n",
    "K) For some_word, shift each letter by 1 letter in the alphabet"
   ]
  },
  {
   "cell_type": "code",
   "execution_count": 142,
   "metadata": {},
   "outputs": [
    {
     "data": {
      "text/plain": [
       "'pukrow|ydnah|thguoht|hsikwah|ollidamra|nonemonehp'"
      ]
     },
     "execution_count": 142,
     "metadata": {},
     "output_type": "execute_result"
    }
   ],
   "source": [
    "\"|\".join(reversed_words)\n",
    "# or do in one go\n",
    "#\"|\".join([x[::-1] for x in words])"
   ]
  },
  {
   "cell_type": "markdown",
   "metadata": {},
   "source": [
    "**make bigrams**"
   ]
  },
  {
   "cell_type": "code",
   "execution_count": 148,
   "metadata": {},
   "outputs": [],
   "source": [
    "bigrams =list(zip(words[0:], words[1:]))"
   ]
  },
  {
   "cell_type": "code",
   "execution_count": 149,
   "metadata": {},
   "outputs": [
    {
     "data": {
      "text/plain": [
       "[('workup', 'handy'),\n",
       " ('handy', 'thought'),\n",
       " ('thought', 'hawkish'),\n",
       " ('hawkish', 'armadillo'),\n",
       " ('armadillo', 'phenomenon')]"
      ]
     },
     "execution_count": 149,
     "metadata": {},
     "output_type": "execute_result"
    }
   ],
   "source": [
    "bigrams"
   ]
  },
  {
   "cell_type": "code",
   "execution_count": 152,
   "metadata": {},
   "outputs": [
    {
     "data": {
      "text/plain": [
       "['handy', 'hawkish', 'thought', 'phenomenon', 'workup', 'armadillo']"
      ]
     },
     "execution_count": 152,
     "metadata": {},
     "output_type": "execute_result"
    }
   ],
   "source": [
    "sorted(words, key=lambda x:x[1])"
   ]
  },
  {
   "cell_type": "code",
   "execution_count": null,
   "metadata": {},
   "outputs": [],
   "source": []
  }
 ],
 "metadata": {
  "kernelspec": {
   "display_name": "Python 3",
   "language": "python",
   "name": "python3"
  },
  "language_info": {
   "codemirror_mode": {
    "name": "ipython",
    "version": 3
   },
   "file_extension": ".py",
   "mimetype": "text/x-python",
   "name": "python",
   "nbconvert_exporter": "python",
   "pygments_lexer": "ipython3",
   "version": "3.6.4"
  }
 },
 "nbformat": 4,
 "nbformat_minor": 2
}
